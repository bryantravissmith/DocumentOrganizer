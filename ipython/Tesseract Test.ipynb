{
 "cells": [
  {
   "cell_type": "code",
   "execution_count": 16,
   "metadata": {
    "collapsed": true
   },
   "outputs": [],
   "source": [
    "import cv2\n",
    "import numpy as np\n",
    "import matplotlib.pyplot as plt\n",
    "import subprocess\n",
    "import glob\n",
    "%matplotlib inline"
   ]
  },
  {
   "cell_type": "code",
   "execution_count": 25,
   "metadata": {
    "collapsed": true
   },
   "outputs": [],
   "source": [
    "def readTextForPdf(file_loc):\n",
    "\tnew_dir = file_loc.split(\".\")[0]\n",
    "\ttext_keys = []\n",
    "\tfor f in glob.glob(new_dir+\"/*.txt\"):\n",
    "\t\tlines = [line.rstrip('\\n') for line in open(f)]\n",
    "\t\ttext_keys += lines\n",
    "\treturn text_keys\n",
    "\n",
    "def detectTextInImage(text_list,doc_image_location):\n",
    "\tcommand = [\"tesseract\",doc_image_location,\"stdout\"]\n",
    "\tproc = subprocess.Popen(command,stdout=subprocess.PIPE,stderr=subprocess.STDOUT)\n",
    "\timg_text = proc.stdout.read().lower()\n",
    "\t#print img_text\n",
    "\tfor text in text_list:\n",
    "\t\tif text in img_text:\n",
    "\t\t\treturn True\n",
    "\treturn False"
   ]
  },
  {
   "cell_type": "code",
   "execution_count": 26,
   "metadata": {
    "collapsed": false
   },
   "outputs": [
    {
     "name": "stdout",
     "output_type": "stream",
     "text": [
      "total 2296\r\n",
      "drwxr-xr-x 1 vagrant vagrant     238 Jul 12 13:39 \u001b[0m\u001b[01;34m.\u001b[0m/\r\n",
      "drwxr-xr-x 1 vagrant vagrant     306 Jul  7 23:04 \u001b[01;34m..\u001b[0m/\r\n",
      "-rw-r--r-- 1 vagrant vagrant    6148 Jul 12 13:39 .DS_Store\r\n",
      "-rw-r--r-- 1 vagrant vagrant  884801 Jul 12 13:56 \u001b[01;35mimg-0000.jpg\u001b[0m\r\n",
      "-rw-r--r-- 1 vagrant vagrant   52558 Jul 12 13:56 \u001b[01;35mimg-0001.jpg\u001b[0m\r\n",
      "-rw-r--r-- 1 vagrant vagrant 1331867 Jul 12 13:56 \u001b[01;35mimg-0002.jpg\u001b[0m\r\n",
      "-rw-r--r-- 1 vagrant vagrant   63672 Jul 12 13:56 \u001b[01;35mimg-0003.jpg\u001b[0m\r\n"
     ]
    }
   ],
   "source": [
    "%ls documents/tiaa/ -la"
   ]
  },
  {
   "cell_type": "code",
   "execution_count": 24,
   "metadata": {
    "collapsed": false
   },
   "outputs": [
    {
     "data": {
      "text/plain": [
       "['tiaa', 'tiaa-cref']"
      ]
     },
     "execution_count": 24,
     "metadata": {},
     "output_type": "execute_result"
    }
   ],
   "source": []
  },
  {
   "cell_type": "code",
   "execution_count": 28,
   "metadata": {
    "collapsed": false
   },
   "outputs": [
    {
     "data": {
      "text/plain": [
       "True"
      ]
     },
     "execution_count": 28,
     "metadata": {},
     "output_type": "execute_result"
    }
   ],
   "source": [
    "f = open(\"keys/tiaa/keys.txt\",\"r\")\n",
    "keys = [line.lower().replace(\"\\n\",\"\") for line in f.readlines()]\n",
    "detectTextInImage(keys,\"documents/tiaa/img-0000.jpg\")"
   ]
  },
  {
   "cell_type": "code",
   "execution_count": 29,
   "metadata": {
    "collapsed": true
   },
   "outputs": [],
   "source": [
    "def getImageLocationsForPdf(file_loc):\n",
    "\tnew_dir = file_loc.split(\".\")[0]\n",
    "\timages = []\n",
    "\treturn glob.glob(new_dir+\"/*.jpg\")"
   ]
  },
  {
   "cell_type": "code",
   "execution_count": 30,
   "metadata": {
    "collapsed": false
   },
   "outputs": [
    {
     "data": {
      "text/plain": [
       "['documents/tiaa/img-0000.jpg',\n",
       " 'documents/tiaa/img-0001.jpg',\n",
       " 'documents/tiaa/img-0002.jpg',\n",
       " 'documents/tiaa/img-0003.jpg']"
      ]
     },
     "execution_count": 30,
     "metadata": {},
     "output_type": "execute_result"
    }
   ],
   "source": [
    "getImageLocationsForPdf(\"documents/tiaa.pdf\")"
   ]
  },
  {
   "cell_type": "code",
   "execution_count": null,
   "metadata": {
    "collapsed": true
   },
   "outputs": [],
   "source": []
  }
 ],
 "metadata": {
  "kernelspec": {
   "display_name": "Python 2",
   "language": "python",
   "name": "python2"
  },
  "language_info": {
   "codemirror_mode": {
    "name": "ipython",
    "version": 2
   },
   "file_extension": ".py",
   "mimetype": "text/x-python",
   "name": "python",
   "nbconvert_exporter": "python",
   "pygments_lexer": "ipython2",
   "version": "2.7.6"
  }
 },
 "nbformat": 4,
 "nbformat_minor": 0
}
